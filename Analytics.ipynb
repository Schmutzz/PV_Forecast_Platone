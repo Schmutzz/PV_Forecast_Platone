{
 "cells": [
  {
   "cell_type": "code",
   "execution_count": null,
   "metadata": {
    "collapsed": false,
    "pycharm": {
     "name": "#%%\n"
    }
   },
   "outputs": [],
   "source": [
    "import plotly.graph_objects as go\n",
    "import plotly.express as px\n",
    "from plotly.subplots import make_subplots\n",
    "import pandas as pd\n",
    "import sqlite3\n"
   ]
  },
  {
   "cell_type": "code",
   "execution_count": null,
   "metadata": {
    "collapsed": false
   },
   "outputs": [],
   "source": [
    "# old\n",
    "df_forecast = pd.read_excel('data/Forecast_11_to_14.xlsx', usecols=['date', 'pvpower_instant'])\n",
    "df_forecast['date'] = pd.to_datetime(df_forecast['date'], format='%Y-%m-%dT%H:%M+00:00')\n",
    "df_forecast = df_forecast.loc[(df_forecast['date'].dt.day == 12) | (df_forecast['date'].dt.day == 13)]\n",
    "df_real = pd.read_excel('data/PV Generation-data-2022-11-01 12_52_19_neu.xlsx')\n",
    "df_real['Timestamp'] = pd.to_datetime(df_real['Timestamp'], format='%d.%m.%Y %H:%M:%S')\n",
    "\n",
    "fig = make_subplots(specs=[[{\"secondary_y\": True}]])\n",
    "fig.add_trace(go.Scatter(x=df_real['Timestamp'], y=df_real['Heisenberg/71/260_READ_Power_DC1'], name='Real PV-Power'), secondary_y=True)\n",
    "fig.add_trace(go.Scatter(x=df_forecast['date'], y=df_forecast['pvpower_instant'], name='Meteoblue Forecast'), secondary_y=False)\n",
    "fig.update_layout(title_text='Vergleich MeteoBlue Forecast vs. Messdaten', title_x=0.5, template='plotly',\n",
    "                  xaxis_title='Zeit', xaxis=dict(tickformat='%d.%m %H:%M'),\n",
    "                  legend=dict(orientation='h', yanchor=\"top\", y=0.99, xanchor=\"center\", x=0.45))\n",
    "fig.update_yaxes(title_text='PV-Messwerte', secondary_y=True)\n",
    "fig.update_yaxes(title_text='MeteoBlue Forecast', secondary_y=False)\n",
    "fig.show()"
   ]
  },
  {
   "cell_type": "code",
   "execution_count": null,
   "metadata": {},
   "outputs": [],
   "source": [
    "#Check if connection is available\n",
    "db_path = \"data/input_data.db\"\n",
    "conn = sqlite3.connect(db_path)\n",
    "cur = conn.cursor()\n",
    "#timerange = \"Timestamp between '2022-07-19 00:00:00' and '2022-07-20 00:00:00' ORDER by Timestamp\"\n",
    "baseline=pd.read_sql_query(\"SELECT * FROM baseline\", conn).set_index('Timestamp')\n",
    "household_batteries=pd.read_sql_query(\"SELECT * FROM household_batteries \", conn).set_index('Timestamp')\n",
    "mb_basic=pd.read_sql_query(\"SELECT * FROM mb_basic \", conn).set_index('Timestamp')\n",
    "mb_pvpro_1h = pd.read_sql_query(\"SELECT * FROM mb_pvpro_1h \", conn).set_index('Timestamp')\n",
    "mb_clouds = pd.read_sql_query(\"SELECT * FROM mb_clouds \", conn).set_index('Timestamp')\n",
    "mb_solar = pd.read_sql_query(\"SELECT * FROM mb_solar \", conn).set_index('Timestamp')\n",
    "mb_sunmoon = pd.read_sql_query(\"SELECT * FROM mb_sunmoon \", conn).set_index('Timestamp')\n",
    "slp = pd.read_sql_query(\"SELECT * FROM slp \", conn).set_index('Timestamp')\n",
    "\n",
    "df_list=[baseline, household_batteries, mb_basic, mb_pvpro_1h, mb_clouds, mb_solar, mb_sunmoon, slp]\n",
    "for df in df_list:\n",
    "    df.index=pd.to_datetime(df.index)\n",
    "baseline"
   ]
  },
  {
   "cell_type": "code",
   "execution_count": null,
   "metadata": {
    "collapsed": false,
    "pycharm": {
     "name": "#%%\n"
    }
   },
   "outputs": [],
   "source": [
    "# data=[\n",
    "# ]\n",
    "\n",
    "# for d in df:\n",
    "#     for c in d.columns:\n",
    "#         data.append(go.Scatter(x=d.index, y=d[c], name=c))\n",
    "\n",
    "# fig= go.Figure(data=data)\n",
    "# fig.show()\n"
   ]
  },
  {
   "cell_type": "code",
   "execution_count": null,
   "metadata": {},
   "outputs": [],
   "source": [
    "fig = make_subplots(specs=[[{'secondary_y': True}]])\n",
    "\n",
    "for df in df_list:\n",
    "    df = df.loc['2022-10-01 00:00:00': '2022-10-02 00:00:00']     #hier Zeitraum auswählen; aber nicht zu groß, sonst schmiert das hier ab\n",
    "    for c in df.columns:\n",
    "        if c in ['rainspot', 'visibility']:\n",
    "            fig.add_trace(go.Scatter(x=df.index, y=df[c], name=c), secondary_y=True)\n",
    "        else:\n",
    "            fig.add_trace(go.Scatter(x=df.index, y=df[c], name=c), secondary_y=False)\n",
    "\n",
    "fig.show(renderer='browser')"
   ]
  },
  {
   "cell_type": "code",
   "execution_count": null,
   "metadata": {},
   "outputs": [],
   "source": [
    "fig = make_subplots(specs=[[{'secondary_y': True}]])\n",
    "\n",
    "for df in df_list:\n",
    "    df = df.loc['2022-10-01 00:00:00': '2022-10-02 00:00:00']     #hier Zeitraum auswählen von bis\n",
    "    for c in df.columns:\n",
    "        if c in []:             #hier Reihe für 1. Achse auswählen\n",
    "            fig.add_trace(go.Scatter(x=df.index, y=df[c], name=c), secondary_y=True)\n",
    "        elif c in ['Baseline in kW', 'Pascal', 'Heisenberg', 'Einstein', 'Kelvin', 'Tesla']:                                   #hier Reihe für 2. Achse auswählen\n",
    "            fig.add_trace(go.Scatter(x=df.index, y=df[c], name=c), secondary_y=False)\n",
    "\n",
    "fig.show()"
   ]
  }
 ],
 "metadata": {
  "kernelspec": {
   "display_name": "Python 3.10.8 64-bit (microsoft store)",
   "language": "python",
   "name": "python3"
  },
  "language_info": {
   "codemirror_mode": {
    "name": "ipython",
    "version": 3
   },
   "file_extension": ".py",
   "mimetype": "text/x-python",
   "name": "python",
   "nbconvert_exporter": "python",
   "pygments_lexer": "ipython3",
   "version": "3.10.8"
  },
  "vscode": {
   "interpreter": {
    "hash": "0d0151df1c1b7cac4fb0500d45cf65f2fe7162b797f290f3cc0058e0aaa0d145"
   }
  }
 },
 "nbformat": 4,
 "nbformat_minor": 0
}
