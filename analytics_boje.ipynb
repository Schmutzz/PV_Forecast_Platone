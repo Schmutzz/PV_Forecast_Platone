{
 "cells": [
  {
   "cell_type": "code",
   "execution_count": 2,
   "metadata": {
    "collapsed": false
   },
   "outputs": [],
   "source": [
    "import plotly.graph_objects as go\n",
    "import plotly.express as px\n",
    "from plotly.subplots import make_subplots\n",
    "import pandas as pd\n",
    "import sqlite3\n",
    "import timeit\n",
    "\n",
    "# establish sql connection\n",
    "db_path = \"data/input_data.db\"\n",
    "conn = sqlite3.connect(db_path)\n",
    "cur = conn.cursor()"
   ]
  },
  {
   "cell_type": "markdown",
   "metadata": {
    "collapsed": false
   },
   "source": [
    "# PV Comparison"
   ]
  },
  {
   "cell_type": "code",
   "execution_count": 3,
   "metadata": {
    "collapsed": false
   },
   "outputs": [],
   "source": [
    "# read in all PV-related data -> interpolation: 1min timesteps / mean: 15min timesteps\n",
    "resample_method = 'interpolation'\n",
    "\n",
    "df_households = pd.read_sql_query('SELECT Timestamp, Pascal, Einstein, Heisenberg, Kelvin, Tesla FROM household_batteries', conn,\n",
    "                                  parse_dates=['Timestamp'], index_col='Timestamp')\n",
    "df_station40 = pd.read_sql_query('SELECT Date, solar_radiation FROM wunderground_historical_40', conn, parse_dates=['Date'], index_col='Date')\n",
    "# df_station40.rename(columns={'Date': 'Timestamp'}, inplace=True)\n",
    "df_station43 = pd.read_sql_query('SELECT Date, solar_radiation FROM wunderground_historical_43', conn, parse_dates=['Date'], index_col='Date')\n",
    "# df_station43.rename(columns={'Date': 'Timestamp'}, inplace=True)\n",
    "df_mb_15 = pd.read_sql_query('SELECT Timestamp, pvpower_instant FROM mb_pvpro_15min', conn, parse_dates=['Timestamp'], index_col='Timestamp')\n",
    "\n",
    "if resample_method == 'interpolation':\n",
    "    df_mb_15 = df_mb_15.resample('1Min').mean().ffill(limit=1).interpolate()\n",
    "    df_station40 = df_station40.resample('1Min').mean().ffill(limit=1).interpolate()\n",
    "    df_station43 = df_station43.resample('1Min').mean().ffill(limit=1).interpolate()\n",
    "    df_results = df_households.merge(df_mb_15, how='inner', left_index=True, right_index=True)\n",
    "elif resample_method == 'mean':\n",
    "    df_households = df_households.resample('15Min').mean().ffill(limit=1).interpolate()\n",
    "    df_station40 = df_station40.resample('15Min').mean().ffill(limit=1).interpolate()\n",
    "    df_station43 = df_station43.resample('15Min').mean().ffill(limit=1).interpolate()\n",
    "    df_results = df_mb_15.merge(df_households, how='inner', left_index=True, right_index=True)\n",
    "else:\n",
    "    print('WRONG RESAMPLE METHOD!!!')\n",
    "    raise KeyboardInterrupt\n",
    "\n",
    "df_results = df_results.merge(df_station40, how='inner', left_index=True, right_index=True)\n",
    "df_results = df_results.merge(df_station43, how='inner', suffixes=('_40', '_43'), left_index=True, right_index=True)\n",
    "df_results['sum_households'] = df_results[['Pascal', 'Einstein', 'Heisenberg', 'Kelvin', 'Tesla']].sum(axis=1)\n",
    "\n",
    "del df_households, df_station40, df_station43, df_mb_15"
   ]
  },
  {
   "cell_type": "code",
   "execution_count": 4,
   "metadata": {
    "collapsed": false
   },
   "outputs": [],
   "source": [
    "fig = make_subplots(specs=[[{'secondary_y': True}]])\n",
    "\n",
    "cols = ['Pascal', 'Einstein', 'Heisenberg', 'Kelvin', 'Tesla', 'sum_households']\n",
    "for col in cols:\n",
    "    fig.add_trace(go.Scatter(x=df_results.index, y=df_results[col], name=col, opacity=0.7), secondary_y=False)\n",
    "fig.add_trace(go.Scatter(x=df_results.index, y=df_results['pvpower_instant'] / df_results['pvpower_instant'].max(), name='MeteoBlue',\n",
    "                         opacity=0.7), secondary_y=True)\n",
    "fig.add_trace(go.Scatter(x=df_results.index, y=df_results['solar_radiation_40'] / df_results['solar_radiation_40'].max(),\n",
    "                         name='Wunderground_40', opacity=0.7), secondary_y=True)\n",
    "fig.add_trace(go.Scatter(x=df_results.index, y=df_results['solar_radiation_43'] / df_results['solar_radiation_43'].max(),\n",
    "                         name='Wunderground_43', opacity=0.7), secondary_y=True)\n",
    "fig.update_layout(title_text=f'Comparison PV values (resample: {resample_method})', title_x=0.5, template='plotly')\n",
    "fig.update_yaxes(title_text='Household Batteries', secondary_y=False)\n",
    "fig.update_yaxes(title_text='MeteoBlue & Wunderground (normalized)', secondary_y=True)\n",
    "fig.show(renderer='browser')"
   ]
  },
  {
   "cell_type": "markdown",
   "metadata": {
    "collapsed": false
   },
   "source": [
    "# PV Correlation"
   ]
  },
  {
   "cell_type": "code",
   "execution_count": 5,
   "metadata": {
    "collapsed": false
   },
   "outputs": [],
   "source": [
    "# read in mb clouds and merge into resampled data\n",
    "\n",
    "df_mb_clouds = pd.read_sql_query('SELECT * FROM mb_clouds', conn, parse_dates=['Timestamp'], index_col='Timestamp')\n",
    "\n",
    "if resample_method == 'interpolation':\n",
    "    df_mb_clouds = df_mb_clouds.resample('1Min').mean().ffill(limit=1).interpolate()\n",
    "elif resample_method == 'mean':\n",
    "    df_mb_clouds = df_mb_clouds.resample('15Min').mean().ffill(limit=1).interpolate()\n",
    "else:\n",
    "    print('WRONG RESAMPLE METHOD!!!')\n",
    "    raise KeyboardInterrupt\n",
    "\n",
    "df_results = df_results.merge(df_mb_clouds, how='inner', left_index=True, right_index=True)\n",
    "\n",
    "del df_mb_clouds"
   ]
  },
  {
   "cell_type": "code",
   "execution_count": 8,
   "metadata": {
    "collapsed": false
   },
   "outputs": [],
   "source": [
    "# correlate every days measured power\n",
    "\n",
    "corr_target = 'pvpower_instant'\n",
    "fig = make_subplots(specs=[[{'secondary_y': True}]])\n",
    "\n",
    "df_corr = pd.DataFrame()\n",
    "cols = ['Pascal', 'Einstein', 'Heisenberg', 'Kelvin', 'Tesla', 'sum_households']\n",
    "for col in cols:\n",
    "    df_corr = pd.concat([df_corr, df_results.groupby(df_results.index.date)[col].corr(df_results[corr_target])], axis=1)\n",
    "\n",
    "df_corr = pd.concat([df_corr, df_results.groupby(df_results.index.date)[['lowclouds', 'midclouds', 'highclouds', 'totalcloudcover']].mean()], axis=1)\n",
    "\n",
    "fig.add_traces([go.Scatter(x=df_corr.index, y=df_corr[col], name=col, opacity=0.7, mode='lines+markers') for col in cols], secondary_ys=[False] * len(cols))\n",
    "fig.update_yaxes(title_text='Correlation value', range=[0, 1], secondary_y=False)\n",
    "\n",
    "\"\"\"\n",
    "cols_clouds = ['lowclouds', 'midclouds', 'highclouds', 'totalcloudcover']\n",
    "fig.add_traces([go.Scatter(x=df_corr.index, y=df_corr[col], name=col, opacity=0.7, mode='lines+markers') for col in cols_clouds],\n",
    "               secondary_ys=[True] * len(cols_clouds))\n",
    "fig.update_yaxes(title_text='Cloud cover in %', range=[0, 100], secondary_y=True)\n",
    "\n",
    "fig.update_layout(title_text='Daily Correlation to MeteoBlue Forecast vs. Cloud Cover (mean)', title_x=0.5,\n",
    "                  xaxis_title='Date', template='plotly')\n",
    "\"\"\"\n",
    "\n",
    "fig.update_layout(title_text=f'Daily Correlation to MeteoBlue Forecast (resample: {resample_method})', title_x=0.5,\n",
    "                  xaxis_title='Date', template='plotly')\n",
    "\n",
    "fig.show(renderer='browser')"
   ]
  },
  {
   "cell_type": "markdown",
   "metadata": {
    "collapsed": false
   },
   "source": [
    "# Comparison parquet"
   ]
  },
  {
   "cell_type": "code",
   "execution_count": 8,
   "metadata": {
    "collapsed": false
   },
   "outputs": [],
   "source": [
    "df_households = pd.read_sql_query('SELECT Timestamp, Pascal, Einstein, Heisenberg, Kelvin, Tesla FROM household_batteries',\n",
    "                                  conn, parse_dates=['Timestamp'], index_col='Timestamp')\n",
    "\n",
    "df_households.to_parquet('households.parquet')\n",
    "df_households.to_parquet('households.parquet.gzip', compression='gzip')\n",
    "df_households.to_csv('households.csv')\n",
    "\n",
    "del df_households"
   ]
  },
  {
   "cell_type": "code",
   "execution_count": 9,
   "metadata": {
    "collapsed": false
   },
   "outputs": [],
   "source": [
    "setup_sql = 'import sqlite3; import pandas as pd; conn = sqlite3.connect(\"data/input_data.db\")'\n",
    "setup_pandas = 'import pandas as pd'\n",
    "\n",
    "t_sql = timeit.Timer(\"df = pd.read_sql_query('SELECT Timestamp, Pascal, Einstein, Heisenberg, Kelvin, Tesla FROM household_batteries', \"\n",
    "                     \"conn, parse_dates=['Timestamp'], index_col='Timestamp')\", setup=setup_sql)\n",
    "t_parquet = timeit.Timer('df = pd.read_parquet(\"households.parquet\")', setup=setup_pandas)\n",
    "t_parquet_zip = timeit.Timer('df = pd.read_parquet(\"households.parquet.gzip\")', setup=setup_pandas)\n",
    "t_csv = timeit.Timer('df = pd.read_csv(\"households.csv\")', setup=setup_pandas)"
   ]
  },
  {
   "cell_type": "code",
   "execution_count": 10,
   "metadata": {
    "collapsed": false
   },
   "outputs": [
    {
     "name": "stdout",
     "output_type": "stream",
     "text": [
      "SQL:\n",
      "[4.4945984000805765, 4.493107500020415, 4.422570600057952, 4.3639179999008775, 4.431500199949369]\n",
      "\n",
      "Parquet:\n",
      "[0.4731425999198109, 0.13582480000331998, 0.15355609997641295, 0.15635219996329397, 0.12520850007422268]\n",
      "\n",
      "Parquet (compressed):\n",
      "[0.16357660002540797, 0.1485568000935018, 0.1466555999359116, 0.17013079999014735, 0.15475169999990612]\n",
      "\n",
      "CSV:\n",
      "[2.026137899956666, 2.061121799983084, 2.013097499962896, 1.9876719999592751, 2.0330720000201836]\n",
      "\n"
     ]
    }
   ],
   "source": [
    "print(f'SQL:\\n{t_sql.repeat(5, 20)}\\n')\n",
    "print(f'Parquet:\\n{t_parquet.repeat(5, 20)}\\n')\n",
    "print(f'Parquet (compressed):\\n{t_parquet_zip.repeat(5, 20)}\\n')\n",
    "print(f'CSV:\\n{t_csv.repeat(5, 20)}\\n')"
   ]
  },
  {
   "cell_type": "code",
   "execution_count": null,
   "metadata": {
    "collapsed": false
   },
   "outputs": [],
   "source": []
  }
 ],
 "metadata": {
  "kernelspec": {
   "display_name": "Python 3.10.8 64-bit (microsoft store)",
   "language": "python",
   "name": "python3"
  },
  "language_info": {
   "codemirror_mode": {
    "name": "ipython",
    "version": 3
   },
   "file_extension": ".py",
   "mimetype": "text/x-python",
   "name": "python",
   "nbconvert_exporter": "python",
   "pygments_lexer": "ipython3",
   "version": "3.10.8"
  },
  "vscode": {
   "interpreter": {
    "hash": "0d0151df1c1b7cac4fb0500d45cf65f2fe7162b797f290f3cc0058e0aaa0d145"
   }
  }
 },
 "nbformat": 4,
 "nbformat_minor": 0
}
