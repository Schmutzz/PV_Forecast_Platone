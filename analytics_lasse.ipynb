{
 "cells": [
  {
   "cell_type": "code",
   "execution_count": 5,
   "metadata": {
    "collapsed": false
   },
   "outputs": [],
   "source": [
    "import plotly.graph_objects as go\n",
    "import plotly.express as px\n",
    "from plotly.subplots import make_subplots\n",
    "import pandas as pd\n",
    "import numpy as np\n",
    "import sqlite3\n",
    "from sklearn.metrics import r2_score\n",
    "\n",
    "# establish sql connection\n",
    "db_path = \"data/input_data.db\"\n",
    "conn = sqlite3.connect(db_path)\n",
    "cur = conn.cursor()"
   ]
  },
  {
   "cell_type": "code",
   "execution_count": null,
   "metadata": {
    "collapsed": false
   },
   "outputs": [],
   "source": [
    "# # old\n",
    "# df_forecast = pd.read_excel('data/Forecast_11_to_14.xlsx', usecols=['date', 'pvpower_instant'])\n",
    "# df_forecast['date'] = pd.to_datetime(df_forecast['date'], format='%Y-%m-%dT%H:%M+00:00')\n",
    "# df_forecast = df_forecast.loc[(df_forecast['date'].dt.day == 12) | (df_forecast['date'].dt.day == 13)]\n",
    "# df_real = pd.read_excel('data/PV Generation-data-2022-11-01 12_52_19_neu.xlsx')\n",
    "# df_real['Timestamp'] = pd.to_datetime(df_real['Timestamp'], format='%d.%m.%Y %H:%M:%S')\n",
    "\n",
    "# fig = make_subplots(specs=[[{\"secondary_y\": True}]])\n",
    "# fig.add_trace(go.Scatter(x=df_real['Timestamp'], y=df_real['Heisenberg/71/260_READ_Power_DC1'], name='Real PV-Power'), secondary_y=True)\n",
    "# fig.add_trace(go.Scatter(x=df_forecast['date'], y=df_forecast['pvpower_instant'], name='Meteoblue Forecast'), secondary_y=False)\n",
    "# fig.update_layout(title_text='Vergleich MeteoBlue Forecast vs. Messdaten', title_x=0.5, template='plotly',\n",
    "#                   xaxis_title='Zeit', xaxis=dict(tickformat='%d.%m %H:%M'),\n",
    "#                   legend=dict(orientation='h', yanchor=\"top\", y=0.99, xanchor=\"center\", x=0.45))\n",
    "# fig.update_yaxes(title_text='PV-Messwerte', secondary_y=True)\n",
    "# fig.update_yaxes(title_text='MeteoBlue Forecast', secondary_y=False)\n",
    "# fig.show()"
   ]
  },
  {
   "cell_type": "markdown",
   "metadata": {},
   "source": [
    "Import all data from SQL"
   ]
  },
  {
   "cell_type": "code",
   "execution_count": 23,
   "metadata": {},
   "outputs": [],
   "source": [
    "\n",
    "#timerange = \"Timestamp between '2022-07-19 00:00:00' and '2022-07-20 00:00:00' ORDER by Timestamp\"\n",
    "baseline=[pd.read_sql_query(\"SELECT * FROM baseline\", conn).set_index('Timestamp'),'baseline']\n",
    "household_batteries=[pd.read_sql_query(\"SELECT * FROM household_batteries \", conn).set_index('Timestamp'), 'household_batteries']\n",
    "mb_basic=[pd.read_sql_query(\"SELECT * FROM mb_basic \", conn).set_index('Timestamp'),'mb_basic']\n",
    "mb_pvpro_1h = [pd.read_sql_query(\"SELECT * FROM mb_pvpro_1h \", conn).set_index('Timestamp'), 'mb_pvpro_1h']\n",
    "mb_clouds =[ pd.read_sql_query(\"SELECT * FROM mb_clouds \", conn).set_index('Timestamp'), 'mb_clouds']\n",
    "mb_solar = [pd.read_sql_query(\"SELECT * FROM mb_solar \", conn).set_index('Timestamp'), 'mb_solar']\n",
    "mb_sunmoon = [pd.read_sql_query(\"SELECT * FROM mb_sunmoon \", conn).set_index('Timestamp'), 'mb_sunmoon']\n",
    "slp = [pd.read_sql_query(\"SELECT * FROM slp \", conn).set_index('Timestamp'), 'slp']\n",
    "mb_pvpro_15min = [pd.read_sql_query(\"SELECT * FROM mb_pvpro_15min \", conn).set_index('Timestamp'), 'mb_pvpro_15min']\n",
    "wunderground_historical_40 = [pd.read_sql_query(\"SELECT * FROM wunderground_historical_40 \", conn).set_index('Date'), 'wunderground_historical_40' ]\n",
    "wunderground_historical_43 = [pd.read_sql_query(\"SELECT * FROM wunderground_historical_43 \", conn).set_index('Date'), 'wunderground_historical_43' ]\n",
    "wunderground_historical_25 = [pd.read_sql_query(\"SELECT * FROM wunderground_historical_25 \", conn).set_index('Date'), 'wunderground_historical_25']\n",
    "\n",
    "# baseline.name='baseline'\n",
    "# household_batteries.name ='household_batteries'\n",
    "# mb_basic.name = 'mb_basic'\n",
    "# mb_pvpro_1h.name = 'mb_pvpro_1h'\n",
    "# mb_clouds.name = 'mb_clouds'\n",
    "# mb_solar.name = 'mb_solar'\n",
    "# mb_sunmoon.name = 'mb_sunmoon'\n",
    "# slp.name = 'slp'\n",
    "# mb_pvpro_15min.name = 'mb_pvpro_15min'\n",
    "# wunderground_historical_40.name = 'wunderground_historical_40' \n",
    "# wunderground_historical_43.name = 'wunderground_historical_43' \n",
    "# wunderground_historical_25.name = 'wunderground_historical_25'\n",
    "\n",
    "df_list=[baseline, household_batteries, mb_basic, mb_pvpro_1h, mb_clouds, mb_solar, mb_sunmoon, slp, mb_pvpro_15min, wunderground_historical_40, wunderground_historical_43, wunderground_historical_25]\n",
    "for df in df_list:\n",
    "    df[0].index=pd.to_datetime(df[0].index)\n",
    "    "
   ]
  },
  {
   "cell_type": "markdown",
   "metadata": {},
   "source": [
    "print all data"
   ]
  },
  {
   "cell_type": "code",
   "execution_count": null,
   "metadata": {},
   "outputs": [],
   "source": [
    "fig = make_subplots(specs=[[{'secondary_y': True}]])\n",
    "\n",
    "for df in df_list:\n",
    "    tempDf = df[0].loc['2022-10-01 00:00:00': '2022-10-02 00:00:00']     #hier Zeitraum auswählen; aber nicht zu groß, sonst schmiert das hier ab\n",
    "    for c in tempDf.columns:\n",
    "        if c in ['Baseline in kW' ]:\n",
    "            fig.add_trace(go.Scatter(x=tempDf.index, y=tempDf[c], name=df[1]+' '+c), secondary_y=True)\n",
    "        elif c not in ['rainspot', 'visibility']:  \n",
    "            fig.add_trace(go.Scatter(x=tempDf.index, y=tempDf[c], name=df[1]+' '+c), secondary_y=False)\n",
    "\n",
    "fig.show()\n",
    "#fig.show(renderer='browser')"
   ]
  },
  {
   "cell_type": "markdown",
   "metadata": {},
   "source": [
    "Interessante Tage:\n",
    "\n",
    "    Keine/wenig Verschattung:\n",
    "        '2022-09-21 00:00:00'\n",
    "        '2022-10-06 00:00:00'\n",
    "        \n",
    "    komplette Verschattung:\n",
    "        '2022-09-24 00:00:00'\n",
    "        '2022-04-04 00:00:00'\n",
    "\n",
    "    teilweise bewölkt:\n",
    "        '2022-10-17 00:00:00'\n",
    "        '2022-10-16 00:00:00'\n",
    "        '2022-10-08 00:00:00'"
   ]
  },
  {
   "cell_type": "markdown",
   "metadata": {},
   "source": [
    "print selected data"
   ]
  },
  {
   "cell_type": "code",
   "execution_count": 26,
   "metadata": {},
   "outputs": [
    {
     "name": "stderr",
     "output_type": "stream",
     "text": [
      "C:\\Users\\bo112\\AppData\\Local\\Temp\\ipykernel_6724\\2919536881.py:4: FutureWarning:\n",
      "\n",
      "Value based partial slicing on non-monotonic DatetimeIndexes with non-existing keys is deprecated and will raise a KeyError in a future Version.\n",
      "\n"
     ]
    }
   ],
   "source": [
    "fig = make_subplots(specs=[[{'secondary_y': True}]])\n",
    "\n",
    "for df in df_list:\n",
    "    tempDf = df[0].loc['2022-09-15 00:00:00': '2022-11-14 00:00:00']     #hier Zeitraum auswählen von bis\n",
    "    for c in tempDf.columns:\n",
    "        if c in ['Baseline in kW','solar_radiation', 'pvpower_instant']:             #hier Reihe für 1. Achse auswählen\n",
    "            fig.add_trace(go.Scatter(x=tempDf.index, y=tempDf[c], name=df[1]+' '+c), secondary_y=True)\n",
    "        elif c in [ 'Pascal', 'Heisenberg', 'Einstein', 'Kelvin', 'Tesla']:                                   #hier Reihe für 2. Achse auswählen\n",
    "            fig.add_trace(go.Scatter(x=tempDf.index, y=tempDf[c], name=df[1]+' '+c), secondary_y=False)\n",
    "\n",
    "fig.update_layout(template='plotly')\n",
    "fig.show(renderer = 'browser')\n",
    "#pups"
   ]
  },
  {
   "cell_type": "markdown",
   "metadata": {},
   "source": []
  },
  {
   "cell_type": "markdown",
   "metadata": {
    "collapsed": false
   },
   "source": [
    "PV Vergleich von Max"
   ]
  },
  {
   "cell_type": "code",
   "execution_count": 15,
   "metadata": {},
   "outputs": [],
   "source": [
    "df_households = pd.read_sql_query('SELECT Timestamp, Pascal, Einstein, Heisenberg, Kelvin, Tesla FROM household_batteries', conn, parse_dates=['Timestamp'])\n",
    "df_station40 = pd.read_sql_query('SELECT Date, solar_radiation FROM wunderground_historical_40', conn)\n",
    "df_station43 = pd.read_sql_query('SELECT Date, solar_radiation FROM wunderground_historical_43', conn)\n",
    "df_station25 = pd.read_sql_query('SELECT Date, solar_radiation FROM wunderground_historical_25', conn)\n",
    "df_mb_15 = pd.read_sql_query('SELECT Timestamp, pvpower_instant FROM mb_pvpro_15min', conn, parse_dates=['Timestamp'])\n",
    "\n",
    "df_mb_15 = df_mb_15.resample('1Min', on='Timestamp').mean().ffill()\n",
    "result_df = df_mb_15.merge(df_households, on='Timestamp', how='inner')"
   ]
  },
  {
   "cell_type": "code",
   "execution_count": 27,
   "metadata": {
    "collapsed": false
   },
   "outputs": [],
   "source": [
    "fig = make_subplots(specs=[[{'secondary_y': True}]])\n",
    "fig.add_trace(go.Scatter(x=result_df['Timestamp'], y=result_df[['Pascal', 'Einstein', 'Heisenberg', 'Kelvin', 'Tesla']]), secondary_y=True)\n",
    "fig.add_trace(go.Scatter(x=result_df['Timestamp'], y=result_df['pvpower_instant']), secondary_y=False)\n",
    "fig.show(renderer='browser')"
   ]
  },
  {
   "cell_type": "markdown",
   "metadata": {},
   "source": [
    "R2_score"
   ]
  },
  {
   "cell_type": "code",
   "execution_count": 3,
   "metadata": {},
   "outputs": [],
   "source": [
    "# read in all PV-related data -> interpolation: 1min timesteps / mean: 15min timesteps\n",
    "resample_method = 'mean'\n",
    "\n",
    "df_households = pd.read_sql_query('SELECT Timestamp, Pascal, Einstein, Heisenberg, Kelvin, Tesla FROM household_batteries', conn, parse_dates=['Timestamp'])\n",
    "df_station40 = pd.read_sql_query('SELECT Date, solar_radiation FROM wunderground_historical_40', conn, parse_dates=['Date'])\n",
    "df_station40.rename(columns={'Date': 'Timestamp'}, inplace=True)\n",
    "df_station43 = pd.read_sql_query('SELECT Date, solar_radiation FROM wunderground_historical_43', conn, parse_dates=['Date'])\n",
    "df_station43.rename(columns={'Date': 'Timestamp'}, inplace=True)\n",
    "df_mb_15 = pd.read_sql_query('SELECT Timestamp, pvpower_instant FROM mb_pvpro_15min', conn, parse_dates=['Timestamp'])\n",
    "\n",
    "if resample_method == 'interpolation':\n",
    "    df_mb_15 = df_mb_15.resample('1Min', on='Timestamp').mean().ffill(limit=1).interpolate()\n",
    "    df_station40 = df_station40.resample('1Min', on='Timestamp').mean().ffill(limit=1).interpolate()\n",
    "    df_station43 = df_station43.resample('1Min', on='Timestamp').mean().ffill(limit=1).interpolate()\n",
    "    df_results = df_households.merge(df_mb_15, on='Timestamp', how='inner')\n",
    "elif resample_method == 'mean':\n",
    "    df_households = df_households.resample('15Min', on='Timestamp').mean().ffill(limit=1).interpolate()\n",
    "    df_station40 = df_station40.resample('15Min', on='Timestamp').mean().ffill(limit=1).interpolate()\n",
    "    df_station43 = df_station43.resample('15Min', on='Timestamp').mean().ffill(limit=1).interpolate()\n",
    "    df_results = df_mb_15.merge(df_households, on='Timestamp', how='inner')\n",
    "else:\n",
    "    print('WRONG RESAMPLE METHOD!!!')\n",
    "    raise KeyboardInterrupt\n",
    "\n",
    "df_results = df_results.merge(df_station40, on='Timestamp', how='inner')\n",
    "df_results = df_results.merge(df_station43, on='Timestamp', how='inner', suffixes=('_40', '_43'))\n",
    "df_results['sum_households'] = df_results[['Pascal', 'Einstein', 'Heisenberg', 'Kelvin', 'Tesla']].sum(axis=1)\n",
    "\n",
    "del df_households, df_station40, df_station43, df_mb_15"
   ]
  },
  {
   "cell_type": "code",
   "execution_count": 10,
   "metadata": {
    "collapsed": false
   },
   "outputs": [
    {
     "ename": "ValueError",
     "evalue": "Cannot index with multidimensional key",
     "output_type": "error",
     "traceback": [
      "\u001b[1;31m---------------------------------------------------------------------------\u001b[0m",
      "\u001b[1;31mValueError\u001b[0m                                Traceback (most recent call last)",
      "Cell \u001b[1;32mIn [10], line 9\u001b[0m\n\u001b[0;32m      7\u001b[0m df_r2 \u001b[39m=\u001b[39m pd\u001b[39m.\u001b[39mDataFrame()\n\u001b[0;32m      8\u001b[0m cols \u001b[39m=\u001b[39m [\u001b[39m'\u001b[39m\u001b[39mPascal\u001b[39m\u001b[39m'\u001b[39m, \u001b[39m'\u001b[39m\u001b[39mEinstein\u001b[39m\u001b[39m'\u001b[39m, \u001b[39m'\u001b[39m\u001b[39mHeisenberg\u001b[39m\u001b[39m'\u001b[39m, \u001b[39m'\u001b[39m\u001b[39mKelvin\u001b[39m\u001b[39m'\u001b[39m, \u001b[39m'\u001b[39m\u001b[39mTesla\u001b[39m\u001b[39m'\u001b[39m, \u001b[39m'\u001b[39m\u001b[39msum_households\u001b[39m\u001b[39m'\u001b[39m]\n\u001b[1;32m----> 9\u001b[0m df_results\u001b[39m=\u001b[39mdf_results\u001b[39m.\u001b[39;49mloc[\u001b[39m~\u001b[39;49mnp\u001b[39m.\u001b[39;49misnan(df_results)]\n\u001b[0;32m     10\u001b[0m \u001b[39mprint\u001b[39m(df_results[cols])\n\u001b[0;32m     11\u001b[0m \u001b[39m# for col in cols:\u001b[39;00m\n\u001b[0;32m     12\u001b[0m \u001b[39m#     df_r2 = pd.concat([df_r2, r2_score(df_results.groupby(df_results.loc['Timestamp'].dt.date)[col], df_results.groupby(df_results['Timestamp'].dt.date)[r2_base])], axis=1)\u001b[39;00m\n\u001b[0;32m     13\u001b[0m \n\u001b[1;32m   (...)\u001b[0m\n\u001b[0;32m     29\u001b[0m \n\u001b[0;32m     30\u001b[0m \u001b[39m# fig.show(renderer='browser')\u001b[39;00m\n",
      "File \u001b[1;32m~\\AppData\\Local\\Packages\\PythonSoftwareFoundation.Python.3.10_qbz5n2kfra8p0\\LocalCache\\local-packages\\Python310\\site-packages\\pandas\\core\\indexing.py:1073\u001b[0m, in \u001b[0;36m_LocationIndexer.__getitem__\u001b[1;34m(self, key)\u001b[0m\n\u001b[0;32m   1070\u001b[0m axis \u001b[39m=\u001b[39m \u001b[39mself\u001b[39m\u001b[39m.\u001b[39maxis \u001b[39mor\u001b[39;00m \u001b[39m0\u001b[39m\n\u001b[0;32m   1072\u001b[0m maybe_callable \u001b[39m=\u001b[39m com\u001b[39m.\u001b[39mapply_if_callable(key, \u001b[39mself\u001b[39m\u001b[39m.\u001b[39mobj)\n\u001b[1;32m-> 1073\u001b[0m \u001b[39mreturn\u001b[39;00m \u001b[39mself\u001b[39;49m\u001b[39m.\u001b[39;49m_getitem_axis(maybe_callable, axis\u001b[39m=\u001b[39;49maxis)\n",
      "File \u001b[1;32m~\\AppData\\Local\\Packages\\PythonSoftwareFoundation.Python.3.10_qbz5n2kfra8p0\\LocalCache\\local-packages\\Python310\\site-packages\\pandas\\core\\indexing.py:1299\u001b[0m, in \u001b[0;36m_LocIndexer._getitem_axis\u001b[1;34m(self, key, axis)\u001b[0m\n\u001b[0;32m   1296\u001b[0m \u001b[39mif\u001b[39;00m \u001b[39mnot\u001b[39;00m (\u001b[39misinstance\u001b[39m(key, \u001b[39mtuple\u001b[39m) \u001b[39mand\u001b[39;00m \u001b[39misinstance\u001b[39m(labels, MultiIndex)):\n\u001b[0;32m   1298\u001b[0m     \u001b[39mif\u001b[39;00m \u001b[39mhasattr\u001b[39m(key, \u001b[39m\"\u001b[39m\u001b[39mndim\u001b[39m\u001b[39m\"\u001b[39m) \u001b[39mand\u001b[39;00m key\u001b[39m.\u001b[39mndim \u001b[39m>\u001b[39m \u001b[39m1\u001b[39m:\n\u001b[1;32m-> 1299\u001b[0m         \u001b[39mraise\u001b[39;00m \u001b[39mValueError\u001b[39;00m(\u001b[39m\"\u001b[39m\u001b[39mCannot index with multidimensional key\u001b[39m\u001b[39m\"\u001b[39m)\n\u001b[0;32m   1301\u001b[0m     \u001b[39mreturn\u001b[39;00m \u001b[39mself\u001b[39m\u001b[39m.\u001b[39m_getitem_iterable(key, axis\u001b[39m=\u001b[39maxis)\n\u001b[0;32m   1303\u001b[0m \u001b[39m# nested tuple slicing\u001b[39;00m\n",
      "\u001b[1;31mValueError\u001b[0m: Cannot index with multidimensional key"
     ]
    }
   ],
   "source": [
    "# correlate every days measured power\n",
    "\n",
    "\n",
    "r2_base = 'pvpower_instant'\n",
    "fig = make_subplots(specs=[[{'secondary_y': True}]])\n",
    "\n",
    "df_r2 = pd.DataFrame()\n",
    "cols = ['Pascal', 'Einstein', 'Heisenberg', 'Kelvin', 'Tesla', 'sum_households']\n",
    "\n",
    "for col in cols:\n",
    "    df_results.col=df_results.loc[~np.isnan(df_results[col]), col]\n",
    "    df_r2 = pd.concat([df_r2, r2_score(df_results.groupby(df_results.loc['Timestamp'].dt.date)[col], df_results.groupby(df_results['Timestamp'].dt.date)[r2_base])], axis=1)\n",
    "\n",
    "print(df_results[cols])\n",
    "fig.add_traces([go.Scatter(x=df_r2.index, y=df_r2[col], name=col, opacity=0.7, mode='lines+markers') for col in cols], secondary_ys=[False] * len(cols))\n",
    "fig.update_yaxes(title_text='Correlation value', range=[0, 1], secondary_y=False)\n",
    "\n",
    "\"\"\"\n",
    "cols_clouds = ['lowclouds', 'midclouds', 'highclouds', 'totalcloudcover']\n",
    "fig.add_traces([go.Scatter(x=df_corr.index, y=df_corr[col], name=col, opacity=0.7, mode='lines+markers') for col in cols_clouds],\n",
    "               secondary_ys=[True] * len(cols_clouds))\n",
    "fig.update_yaxes(title_text='Cloud cover in %', range=[0, 100], secondary_y=True)\n",
    "\n",
    "fig.update_layout(title_text='Daily Correlation to MeteoBlue Forecast vs. Cloud Cover (mean)', title_x=0.5,\n",
    "                  xaxis_title='Date', template='plotly')\n",
    "\"\"\"\n",
    "\n",
    "fig.update_layout(title_text=f'Daily Correlation to MeteoBlue Forecast (resample: {resample_method})', title_x=0.5,\n",
    "                  xaxis_title='Date', template='plotly')\n",
    "\n",
    "fig.show(renderer='browser')"
   ]
  }
 ],
 "metadata": {
  "kernelspec": {
   "display_name": "Python 3.10.8 64-bit (microsoft store)",
   "language": "python",
   "name": "python3"
  },
  "language_info": {
   "codemirror_mode": {
    "name": "ipython",
    "version": 3
   },
   "file_extension": ".py",
   "mimetype": "text/x-python",
   "name": "python",
   "nbconvert_exporter": "python",
   "pygments_lexer": "ipython3",
   "version": "3.10.8"
  },
  "vscode": {
   "interpreter": {
    "hash": "0d0151df1c1b7cac4fb0500d45cf65f2fe7162b797f290f3cc0058e0aaa0d145"
   }
  }
 },
 "nbformat": 4,
 "nbformat_minor": 0
}
