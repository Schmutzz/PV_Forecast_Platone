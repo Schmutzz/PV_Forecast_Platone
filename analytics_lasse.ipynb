{
 "cells": [
  {
   "cell_type": "code",
   "execution_count": null,
   "metadata": {
    "collapsed": false
   },
   "outputs": [],
   "source": [
    "import plotly.graph_objects as go\n",
    "import plotly.express as px\n",
    "from plotly.subplots import make_subplots\n",
    "import pandas as pd\n",
    "import sqlite3\n",
    "\n",
    "# establish sql connection\n",
    "db_path = \"data/input_data.db\"\n",
    "conn = sqlite3.connect(db_path)\n",
    "cur = conn.cursor()"
   ]
  },
  {
   "cell_type": "code",
   "execution_count": null,
   "metadata": {
    "collapsed": false
   },
   "outputs": [],
   "source": [
    "# # old\n",
    "# df_forecast = pd.read_excel('data/Forecast_11_to_14.xlsx', usecols=['date', 'pvpower_instant'])\n",
    "# df_forecast['date'] = pd.to_datetime(df_forecast['date'], format='%Y-%m-%dT%H:%M+00:00')\n",
    "# df_forecast = df_forecast.loc[(df_forecast['date'].dt.day == 12) | (df_forecast['date'].dt.day == 13)]\n",
    "# df_real = pd.read_excel('data/PV Generation-data-2022-11-01 12_52_19_neu.xlsx')\n",
    "# df_real['Timestamp'] = pd.to_datetime(df_real['Timestamp'], format='%d.%m.%Y %H:%M:%S')\n",
    "\n",
    "# fig = make_subplots(specs=[[{\"secondary_y\": True}]])\n",
    "# fig.add_trace(go.Scatter(x=df_real['Timestamp'], y=df_real['Heisenberg/71/260_READ_Power_DC1'], name='Real PV-Power'), secondary_y=True)\n",
    "# fig.add_trace(go.Scatter(x=df_forecast['date'], y=df_forecast['pvpower_instant'], name='Meteoblue Forecast'), secondary_y=False)\n",
    "# fig.update_layout(title_text='Vergleich MeteoBlue Forecast vs. Messdaten', title_x=0.5, template='plotly',\n",
    "#                   xaxis_title='Zeit', xaxis=dict(tickformat='%d.%m %H:%M'),\n",
    "#                   legend=dict(orientation='h', yanchor=\"top\", y=0.99, xanchor=\"center\", x=0.45))\n",
    "# fig.update_yaxes(title_text='PV-Messwerte', secondary_y=True)\n",
    "# fig.update_yaxes(title_text='MeteoBlue Forecast', secondary_y=False)\n",
    "# fig.show()"
   ]
  },
  {
   "cell_type": "code",
   "execution_count": 23,
   "metadata": {},
   "outputs": [],
   "source": [
    "\n",
    "#timerange = \"Timestamp between '2022-07-19 00:00:00' and '2022-07-20 00:00:00' ORDER by Timestamp\"\n",
    "baseline=[pd.read_sql_query(\"SELECT * FROM baseline\", conn).set_index('Timestamp'),'baseline']\n",
    "household_batteries=[pd.read_sql_query(\"SELECT * FROM household_batteries \", conn).set_index('Timestamp'), 'household_batteries']\n",
    "mb_basic=[pd.read_sql_query(\"SELECT * FROM mb_basic \", conn).set_index('Timestamp'),'mb_basic']\n",
    "mb_pvpro_1h = [pd.read_sql_query(\"SELECT * FROM mb_pvpro_1h \", conn).set_index('Timestamp'), 'mb_pvpro_1h']\n",
    "mb_clouds =[ pd.read_sql_query(\"SELECT * FROM mb_clouds \", conn).set_index('Timestamp'), 'mb_clouds']\n",
    "mb_solar = [pd.read_sql_query(\"SELECT * FROM mb_solar \", conn).set_index('Timestamp'), 'mb_solar']\n",
    "mb_sunmoon = [pd.read_sql_query(\"SELECT * FROM mb_sunmoon \", conn).set_index('Timestamp'), 'mb_sunmoon']\n",
    "slp = [pd.read_sql_query(\"SELECT * FROM slp \", conn).set_index('Timestamp'), 'slp']\n",
    "mb_pvpro_15min = [pd.read_sql_query(\"SELECT * FROM mb_pvpro_15min \", conn).set_index('Timestamp'), 'mb_pvpro_15min']\n",
    "wunderground_historical_40 = [pd.read_sql_query(\"SELECT * FROM wunderground_historical_40 \", conn).set_index('Date'), 'wunderground_historical_40' ]\n",
    "wunderground_historical_43 = [pd.read_sql_query(\"SELECT * FROM wunderground_historical_43 \", conn).set_index('Date'), 'wunderground_historical_43' ]\n",
    "wunderground_historical_25 = [pd.read_sql_query(\"SELECT * FROM wunderground_historical_25 \", conn).set_index('Date'), 'wunderground_historical_25']\n",
    "\n",
    "# baseline.name='baseline'\n",
    "# household_batteries.name ='household_batteries'\n",
    "# mb_basic.name = 'mb_basic'\n",
    "# mb_pvpro_1h.name = 'mb_pvpro_1h'\n",
    "# mb_clouds.name = 'mb_clouds'\n",
    "# mb_solar.name = 'mb_solar'\n",
    "# mb_sunmoon.name = 'mb_sunmoon'\n",
    "# slp.name = 'slp'\n",
    "# mb_pvpro_15min.name = 'mb_pvpro_15min'\n",
    "# wunderground_historical_40.name = 'wunderground_historical_40' \n",
    "# wunderground_historical_43.name = 'wunderground_historical_43' \n",
    "# wunderground_historical_25.name = 'wunderground_historical_25'\n",
    "\n",
    "df_list=[baseline, household_batteries, mb_basic, mb_pvpro_1h, mb_clouds, mb_solar, mb_sunmoon, slp, mb_pvpro_15min, wunderground_historical_40, wunderground_historical_43, wunderground_historical_25]\n",
    "for df in df_list:\n",
    "    df[0].index=pd.to_datetime(df[0].index)\n",
    "    "
   ]
  },
  {
   "cell_type": "code",
   "execution_count": null,
   "metadata": {
    "collapsed": false
   },
   "outputs": [],
   "source": [
    "\n"
   ]
  },
  {
   "cell_type": "code",
   "execution_count": null,
   "metadata": {},
   "outputs": [],
   "source": [
    "fig = make_subplots(specs=[[{'secondary_y': True}]])\n",
    "\n",
    "for df in df_list:\n",
    "    tempDf = df[0].loc['2022-10-01 00:00:00': '2022-10-02 00:00:00']     #hier Zeitraum auswählen; aber nicht zu groß, sonst schmiert das hier ab\n",
    "    for c in tempDf.columns:\n",
    "        if c in ['Baseline in kW' ]:\n",
    "            fig.add_trace(go.Scatter(x=tempDf.index, y=tempDf[c], name=df[1]+' '+c), secondary_y=True)\n",
    "        elif c not in ['rainspot', 'visibility']:  \n",
    "            fig.add_trace(go.Scatter(x=tempDf.index, y=tempDf[c], name=df[1]+' '+c), secondary_y=False)\n",
    "\n",
    "fig.show()\n",
    "#fig.show(renderer='browser')"
   ]
  },
  {
   "cell_type": "markdown",
   "metadata": {},
   "source": [
    "Interessante Tage:\n",
    "\n",
    "    Keine/wenig Verschattung:\n",
    "        '2022-09-21 00:00:00'\n",
    "        '2022-10-06 00:00:00'\n",
    "        \n",
    "    komplette Verschattung:\n",
    "        '2022-09-24 00:00:00'\n",
    "        '2022-04-04 00:00:00'\n",
    "\n",
    "    teilweise bewölkt:\n",
    "        '2022-10-17 00:00:00'\n",
    "        '2022-10-16 00:00:00'\n",
    "        '2022-10-08 00:00:00'"
   ]
  },
  {
   "cell_type": "code",
   "execution_count": 26,
   "metadata": {},
   "outputs": [
    {
     "name": "stderr",
     "output_type": "stream",
     "text": [
      "C:\\Users\\bo112\\AppData\\Local\\Temp\\ipykernel_6724\\2919536881.py:4: FutureWarning:\n",
      "\n",
      "Value based partial slicing on non-monotonic DatetimeIndexes with non-existing keys is deprecated and will raise a KeyError in a future Version.\n",
      "\n"
     ]
    }
   ],
   "source": [
    "fig = make_subplots(specs=[[{'secondary_y': True}]])\n",
    "\n",
    "for df in df_list:\n",
    "    tempDf = df[0].loc['2022-09-15 00:00:00': '2022-11-14 00:00:00']     #hier Zeitraum auswählen von bis\n",
    "    for c in tempDf.columns:\n",
    "        if c in ['Baseline in kW','solar_radiation', 'pvpower_instant']:             #hier Reihe für 1. Achse auswählen\n",
    "            fig.add_trace(go.Scatter(x=tempDf.index, y=tempDf[c], name=df[1]+' '+c), secondary_y=True)\n",
    "        elif c in [ 'Pascal', 'Heisenberg', 'Einstein', 'Kelvin', 'Tesla']:                                   #hier Reihe für 2. Achse auswählen\n",
    "            fig.add_trace(go.Scatter(x=tempDf.index, y=tempDf[c], name=df[1]+' '+c), secondary_y=False)\n",
    "\n",
    "fig.update_layout(template='plotly')\n",
    "fig.show(renderer = 'browser')\n",
    "#pups"
   ]
  },
  {
   "cell_type": "markdown",
   "metadata": {},
   "source": []
  },
  {
   "cell_type": "markdown",
   "source": [
    "PV Vergleich"
   ],
   "metadata": {
    "collapsed": false
   }
  },
  {
   "cell_type": "code",
   "execution_count": 15,
   "metadata": {},
   "outputs": [],
   "source": [
    "df_households = pd.read_sql_query('SELECT Timestamp, Pascal, Einstein, Heisenberg, Kelvin, Tesla FROM household_batteries', conn, parse_dates=['Timestamp'])\n",
    "df_station40 = pd.read_sql_query('SELECT Date, solar_radiation FROM wunderground_historical_40', conn)\n",
    "df_station43 = pd.read_sql_query('SELECT Date, solar_radiation FROM wunderground_historical_43', conn)\n",
    "df_station25 = pd.read_sql_query('SELECT Date, solar_radiation FROM wunderground_historical_25', conn)\n",
    "df_mb_15 = pd.read_sql_query('SELECT Timestamp, pvpower_instant FROM mb_pvpro_15min', conn, parse_dates=['Timestamp'])\n",
    "\n",
    "df_mb_15 = df_mb_15.resample('1Min', on='Timestamp').mean().ffill()\n",
    "result_df = df_mb_15.merge(df_households, on='Timestamp', how='inner')"
   ]
  },
  {
   "cell_type": "code",
   "execution_count": 27,
   "outputs": [],
   "source": [
    "fig = make_subplots(specs=[[{'secondary_y': True}]])\n",
    "fig.add_trace(go.Scatter(x=result_df['Timestamp'], y=result_df[['Pascal', 'Einstein', 'Heisenberg', 'Kelvin', 'Tesla']]), secondary_y=True)\n",
    "fig.add_trace(go.Scatter(x=result_df['Timestamp'], y=result_df['pvpower_instant']), secondary_y=False)\n",
    "fig.show(renderer='browser')"
   ],
   "metadata": {
    "collapsed": false
   }
  },
  {
   "cell_type": "code",
   "execution_count": null,
   "outputs": [],
   "source": [],
   "metadata": {
    "collapsed": false
   }
  }
 ],
 "metadata": {
  "kernelspec": {
   "display_name": "Python 3.10.8 64-bit (microsoft store)",
   "language": "python",
   "name": "python3"
  },
  "language_info": {
   "codemirror_mode": {
    "name": "ipython",
    "version": 3
   },
   "file_extension": ".py",
   "mimetype": "text/x-python",
   "name": "python",
   "nbconvert_exporter": "python",
   "pygments_lexer": "ipython3",
   "version": "3.10.8"
  },
  "vscode": {
   "interpreter": {
    "hash": "0d0151df1c1b7cac4fb0500d45cf65f2fe7162b797f290f3cc0058e0aaa0d145"
   }
  }
 },
 "nbformat": 4,
 "nbformat_minor": 0
}
